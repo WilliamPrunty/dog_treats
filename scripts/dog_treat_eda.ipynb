{
 "cells": [
  {
   "cell_type": "code",
   "execution_count": null,
   "id": "83b8162d",
   "metadata": {},
   "outputs": [],
   "source": [
    "import pandas as pd\n",
    "import numpy as np\n",
    "import matplotlib.pyplot as plt\n",
    "import seaborn as sns"
   ]
  },
  {
   "cell_type": "code",
   "execution_count": null,
   "id": "12b96cb6",
   "metadata": {},
   "outputs": [],
   "source": [
    "treatsdf = pd.read_csv('../data/treatscleaned_final.csv')\n",
    "ingcount = pd.read_csv('../data/ingredientscount.csv')"
   ]
  },
  {
   "cell_type": "code",
   "execution_count": null,
   "id": "94837659",
   "metadata": {},
   "outputs": [],
   "source": [
    "treatsdf.head()"
   ]
  },
  {
   "cell_type": "code",
   "execution_count": null,
   "id": "e04eea39",
   "metadata": {},
   "outputs": [],
   "source": [
    "ingcount.head()"
   ]
  },
  {
   "cell_type": "code",
   "execution_count": null,
   "id": "293a4097",
   "metadata": {
    "scrolled": false
   },
   "outputs": [],
   "source": [
    "treatsdf.head()"
   ]
  },
  {
   "cell_type": "code",
   "execution_count": null,
   "id": "7a5706dc",
   "metadata": {},
   "outputs": [],
   "source": [
    "#creating a column identifying whether or not a treat is limited ingredient.\n",
    "#there is no regulatory meaning of 'Limited Ingredient', so 8 is selected as the cutoff based on the\n",
    "#maximum number of ingredients present in our existing homemade dog treat recipes, 8 also represents the 25%ile.\n",
    "\n",
    "limited_ing = []\n",
    "\n",
    "for x in treatsdf['ing_count']:\n",
    "    if x <= 8:\n",
    "        limited_ing.append('Yes')\n",
    "    else:\n",
    "        limited_ing.append('No')"
   ]
  },
  {
   "cell_type": "code",
   "execution_count": null,
   "id": "3d6fe62f",
   "metadata": {},
   "outputs": [],
   "source": [
    "treatsdf['limited_ing'] = limited_ing"
   ]
  },
  {
   "cell_type": "code",
   "execution_count": null,
   "id": "ac868824",
   "metadata": {},
   "outputs": [],
   "source": [
    "treatsdf.describe()"
   ]
  },
  {
   "cell_type": "code",
   "execution_count": null,
   "id": "84666739",
   "metadata": {},
   "outputs": [],
   "source": [
    "treatsdf.corr()"
   ]
  },
  {
   "cell_type": "code",
   "execution_count": null,
   "id": "3ef49007",
   "metadata": {},
   "outputs": [],
   "source": [
    "#plotting dog treat price against rating.\n",
    "\n",
    "sns.scatterplot(x = treatsdf['rating'], y = treatsdf['price'])\n",
    "plt.xlabel(\"Rating\")\n",
    "plt.ylabel(\"Price\")\n",
    "plt.title(\"Do lower cost treats rate higher?\")\n",
    "plt.show()"
   ]
  },
  {
   "cell_type": "markdown",
   "id": "ff4230d6",
   "metadata": {},
   "source": [
    "Price and rating relationship seems to imply that lower cost treats typically rate higher. Calculated correlation coeffecient doesn't mathematically support this, however.\n",
    "\n",
    "Research paper \"Price Effects in Online Product Reviews: An Analytical Model and Empirical Analysis.\" appears to confirm that uni-dimensional rating systems are substantially biased by price, where rating is based more on 'perceived value' over 'perceived quality'.\n",
    "\n",
    "Li, Xinxin, and Lorin M. Hitt. “Price Effects in Online Product Reviews: An Analytical Model and Empirical Analysis.” MIS Quarterly, vol. 34, no. 4, 2010, pp. 809–31. JSTOR, https://doi.org/10.2307/25750706. Accessed 14 June 2023."
   ]
  },
  {
   "cell_type": "code",
   "execution_count": null,
   "id": "c62ebd05",
   "metadata": {},
   "outputs": [],
   "source": [
    "#plotting ingredient count against price.\n",
    "\n",
    "sns.scatterplot(x = treatsdf['ing_count'], y = treatsdf['price'], size = treatsdf['rating'], hue = treatsdf['rating'], \n",
    "                palette = 'viridis')\n",
    "plt.xlabel('Ingredient Count')\n",
    "plt.ylabel('Price')\n",
    "plt.title(\"Are limited ingredient treats more expensive?\")\n",
    "#plotting a line at 8 or my cutoff for 'limited ingredient'\n",
    "plt.axvline(x = 8, linestyle = ':', color = 'orange')\n",
    "plt.legend(title = \"Rating\", bbox_to_anchor = (1.0, 1.0))\n",
    "plt.show()"
   ]
  },
  {
   "cell_type": "markdown",
   "id": "815ced01",
   "metadata": {},
   "source": [
    "The most expensive treats are considered 'Limited Ingredient'. It doesn't appear to directly correlate, with a calculated correlation coeffecient of -.17. The vertical line represents my cutoff for 'limited ingredient' treats."
   ]
  },
  {
   "cell_type": "code",
   "execution_count": null,
   "id": "b3e7f5d7",
   "metadata": {},
   "outputs": [],
   "source": [
    "#calculating cost per ounce for treats\n",
    "\n",
    "cost_per_oz = treatsdf['price'] / treatsdf['size']"
   ]
  },
  {
   "cell_type": "code",
   "execution_count": null,
   "id": "6ba477c5",
   "metadata": {},
   "outputs": [],
   "source": [
    "#plotting distribution of cost per ounce\n",
    "\n",
    "sns.boxplot(x = cost_per_oz, showfliers = True, palette = 'viridis', showmeans=True)\n",
    "plt.title('Dog Treat Price Per Ounce')\n",
    "plt.show()"
   ]
  },
  {
   "cell_type": "markdown",
   "id": "6dfe01ca",
   "metadata": {},
   "source": [
    "While I made an effort to convert all measures to ounces, few are by count. I believe this is resulting in the outliers. Weight data was not available from the website after further investigation."
   ]
  },
  {
   "cell_type": "code",
   "execution_count": null,
   "id": "0888e7d5",
   "metadata": {},
   "outputs": [],
   "source": [
    "#plotting distribution of cost per ounce, removed outliers for a cleaner presentation.\n",
    "\n",
    "sns.boxplot(x = cost_per_oz, showfliers = False, palette = 'viridis', showmeans=True)\n",
    "plt.title('Dog Treat Price Per Ounce')\n",
    "plt.show()"
   ]
  },
  {
   "cell_type": "code",
   "execution_count": null,
   "id": "1ed3b7f9",
   "metadata": {
    "scrolled": true
   },
   "outputs": [],
   "source": [
    "#basics stats relative to cost per ounce.\n",
    "\n",
    "cost_per_oz.describe()"
   ]
  },
  {
   "cell_type": "code",
   "execution_count": null,
   "id": "f73c166e",
   "metadata": {},
   "outputs": [],
   "source": [
    "#quick math pricing an 8 ounce product based on median and mean cost per ounce.\n",
    "\n",
    "print('The price of an 8 oz product based on median cost per ounce is ' + str(.8325 * 8) + '.')\n",
    "print('The price of an 8 oz product based on mean cost per ounce is ' + str(2.561517 * 8) + '.')"
   ]
  },
  {
   "cell_type": "markdown",
   "id": "a4fd11dd",
   "metadata": {},
   "source": [
    "With the number of outliers present, median cost may be a more accurate measure to consider for pricing of a new product."
   ]
  },
  {
   "cell_type": "code",
   "execution_count": null,
   "id": "9f0c9318",
   "metadata": {},
   "outputs": [],
   "source": [
    "#understanding common pack sizes\n",
    "\n",
    "treatsdf['size'].describe()"
   ]
  },
  {
   "cell_type": "markdown",
   "id": "391b0f93",
   "metadata": {},
   "source": [
    "50%ile for product size is 8 ounces. "
   ]
  },
  {
   "cell_type": "code",
   "execution_count": null,
   "id": "a5b59e5e",
   "metadata": {},
   "outputs": [],
   "source": []
  }
 ],
 "metadata": {
  "kernelspec": {
   "display_name": "Python 3 (ipykernel)",
   "language": "python",
   "name": "python3"
  },
  "language_info": {
   "codemirror_mode": {
    "name": "ipython",
    "version": 3
   },
   "file_extension": ".py",
   "mimetype": "text/x-python",
   "name": "python",
   "nbconvert_exporter": "python",
   "pygments_lexer": "ipython3",
   "version": "3.9.13"
  }
 },
 "nbformat": 4,
 "nbformat_minor": 5
}
