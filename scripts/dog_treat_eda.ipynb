{
 "cells": [
  {
   "cell_type": "code",
   "execution_count": null,
   "id": "83b8162d",
   "metadata": {},
   "outputs": [],
   "source": [
    "import pandas as pd\n",
    "import numpy as np\n",
    "import matplotlib.pyplot as plt\n",
    "import seaborn as sns\n",
    "import regex as re"
   ]
  },
  {
   "cell_type": "code",
   "execution_count": null,
   "id": "12b96cb6",
   "metadata": {},
   "outputs": [],
   "source": [
    "treatsdf = pd.read_csv('../data/treatscleaned_final.csv')\n",
    "ingcount = pd.read_csv('../data/ingredientscount.csv')"
   ]
  },
  {
   "cell_type": "code",
   "execution_count": null,
   "id": "94837659",
   "metadata": {},
   "outputs": [],
   "source": [
    "treatsdf.head()"
   ]
  },
  {
   "cell_type": "code",
   "execution_count": null,
   "id": "e04eea39",
   "metadata": {},
   "outputs": [],
   "source": [
    "ingcount.head()"
   ]
  },
  {
   "cell_type": "code",
   "execution_count": null,
   "id": "293a4097",
   "metadata": {
    "scrolled": false
   },
   "outputs": [],
   "source": [
    "treatsdf.head()"
   ]
  },
  {
   "cell_type": "code",
   "execution_count": null,
   "id": "f3343d80",
   "metadata": {},
   "outputs": [],
   "source": [
    "#creating a column identifying whether or not a treat is limited ingredient.\n",
    "#there is no regulatory meaning of 'Limited Ingredient', so 8 is selected as the cutoff based on the\n",
    "#maximum number of ingredients present in our existing homemade dog treat recipes, 8 also represents the 25%ile.\n",
    "\n",
    "limited_ing = []\n",
    "\n",
    "for x in treatsdf['ing_count']:\n",
    "    if x <= 8:\n",
    "        limited_ing.append('Yes')\n",
    "    else:\n",
    "        limited_ing.append('No')"
   ]
  },
  {
   "cell_type": "code",
   "execution_count": null,
   "id": "93813a25",
   "metadata": {},
   "outputs": [],
   "source": [
    "treatsdf['limited_ing'] = limited_ing"
   ]
  },
  {
   "cell_type": "code",
   "execution_count": null,
   "id": "4ddc90d2",
   "metadata": {},
   "outputs": [],
   "source": [
    "treatsdf.describe()"
   ]
  },
  {
   "cell_type": "code",
   "execution_count": null,
   "id": "e7cc8064",
   "metadata": {},
   "outputs": [],
   "source": [
    "treatsdf.corr()"
   ]
  },
  {
   "cell_type": "code",
   "execution_count": null,
   "id": "654d40c6",
   "metadata": {},
   "outputs": [],
   "source": [
    "#plotting dog treat price against rating.\n",
    "\n",
    "sns.scatterplot(x = treatsdf['rating'], y = treatsdf['price'])\n",
    "plt.xlabel(\"Rating\")\n",
    "plt.ylabel(\"Price\")\n",
    "plt.title(\"Do lower cost treats rate higher?\")\n",
    "plt.show()"
   ]
  },
  {
   "cell_type": "markdown",
   "id": "7cf3d4fb",
   "metadata": {},
   "source": [
    "Price and rating relationship does not imply that cost and rating are related. Calculated correlation coeffecient doesn't mathematically support this, however.\n",
    "\n",
    "Research paper \"Price Effects in Online Product Reviews: An Analytical Model and Empirical Analysis.\" appears to confirm that uni-dimensional rating systems are substantially biased by price, where rating is based more on 'perceived value' over 'perceived quality'.\n",
    "\n",
    "Li, Xinxin, and Lorin M. Hitt. “Price Effects in Online Product Reviews: An Analytical Model and Empirical Analysis.” MIS Quarterly, vol. 34, no. 4, 2010, pp. 809–31. JSTOR, https://doi.org/10.2307/25750706. Accessed 14 June 2023."
   ]
  },
  {
   "cell_type": "code",
   "execution_count": null,
   "id": "fea993ac",
   "metadata": {},
   "outputs": [],
   "source": [
    "#calculating cost per ounce for treats\n",
    "\n",
    "cost_per_oz = treatsdf['price'] / treatsdf['size']\n",
    "\n",
    "#creating column in the dataframe for cost_per_oz\n",
    "\n",
    "treatsdf['cost_per_oz'] = cost_per_oz"
   ]
  },
  {
   "cell_type": "code",
   "execution_count": null,
   "id": "ae702de0",
   "metadata": {},
   "outputs": [],
   "source": [
    "#plotting distribution of cost per ounce\n",
    "\n",
    "sns.boxplot(x = cost_per_oz, showfliers = True, palette = 'viridis', showmeans=True)\n",
    "plt.title('Dog Treat Price Per Ounce')\n",
    "plt.show()"
   ]
  },
  {
   "cell_type": "markdown",
   "id": "b775cb7f",
   "metadata": {},
   "source": [
    "While I made an effort to convert all measures to ounces, few are by count. I believe this is resulting in the outliers. Weight data was not available from the website after further investigation. Will remove outliers where price is concerned moving forward."
   ]
  },
  {
   "cell_type": "code",
   "execution_count": null,
   "id": "76c60c43",
   "metadata": {},
   "outputs": [],
   "source": [
    "#finding quartiles to calculate interquartile range to filter cost_per_oz outliers in upcoming visual.\n",
    "\n",
    "q3, q1 = np.percentile(treatsdf['cost_per_oz'], [75, 25])\n",
    "print(\"3rd quartile is \", q3)\n",
    "print(\"1st quartile is \", q1)"
   ]
  },
  {
   "cell_type": "code",
   "execution_count": null,
   "id": "0d17b612",
   "metadata": {},
   "outputs": [],
   "source": [
    "#calculate IQR for cost_per_oz\n",
    "\n",
    "iqr = q3 - q1\n",
    "print(\"IQR is \", iqr)"
   ]
  },
  {
   "cell_type": "code",
   "execution_count": null,
   "id": "be8f9c07",
   "metadata": {},
   "outputs": [],
   "source": [
    "#Finding high limit for outliers, cost_per_oz\n",
    "\n",
    "high_outlier = q3 + (1.5 * iqr)"
   ]
  },
  {
   "cell_type": "code",
   "execution_count": null,
   "id": "f07adaf9",
   "metadata": {},
   "outputs": [],
   "source": [
    "#creating a dataframe with all cost_per_oz outliers removed for better visualization.\n",
    "\n",
    "ol_removed = treatsdf.loc[treatsdf['cost_per_oz'] <= high_outlier]"
   ]
  },
  {
   "cell_type": "code",
   "execution_count": null,
   "id": "eac5ff74",
   "metadata": {},
   "outputs": [],
   "source": [
    "#plotting ingredient count against price.\n",
    "minsize, maxsize = [min(ol_removed['rating']) * 15 + 20, max(ol_removed['rating']*25)]\n",
    "sns.scatterplot(x = treatsdf['ing_count'], y = ol_removed['cost_per_oz'], size = ol_removed['rating'], hue = ol_removed['rating'], \n",
    "                palette = 'viridis', sizes = (minsize, maxsize))\n",
    "plt.xlabel('Ingredient Count')\n",
    "plt.ylabel('Retail Cost Per Ounce')\n",
    "plt.title(\"Are limited ingredient treats more expensive?\")\n",
    "\n",
    "#plotting a line at 8 or my cutoff for 'limited ingredient'\n",
    "plt.axvline(x = 8, linestyle = ':', color = 'orange')\n",
    "\n",
    "plt.legend(title = \"Rating\", bbox_to_anchor = (1.0, 1.0))\n",
    "\n",
    "tick_locations = plt.yticks()[0]\n",
    "tick_labels = ['${}'.format(int(tick)) for tick in tick_locations]\n",
    "plt.yticks(tick_locations, tick_labels)\n",
    "\n",
    "plt.show()"
   ]
  },
  {
   "cell_type": "markdown",
   "id": "c891bb23",
   "metadata": {},
   "source": [
    "Limited ingredient treats tend to be a bit more expensive. It doesn't appear to directly correlate, with a calculated correlation coeffecient of -.17. The vertical line represents my cutoff for 'limited ingredient' treats.\n",
    "\n",
    "With outliers removed, correlation is reported at -.11, suggesting even less of a correlation between price and number of ingredients."
   ]
  },
  {
   "cell_type": "code",
   "execution_count": null,
   "id": "31f92b99",
   "metadata": {},
   "outputs": [],
   "source": [
    "#plotting distribution of cost per ounce, removed outliers for a cleaner presentation.\n",
    "\n",
    "sns.boxplot(x = cost_per_oz, showfliers = False, palette = 'viridis', showmeans=True)\n",
    "plt.title('Dog Treat Price Per Ounce')\n",
    "plt.show()"
   ]
  },
  {
   "cell_type": "code",
   "execution_count": null,
   "id": "8539760e",
   "metadata": {
    "scrolled": true
   },
   "outputs": [],
   "source": [
    "#basics stats relative to cost per ounce, with outliers.\n",
    "\n",
    "cost_per_oz.describe()"
   ]
  },
  {
   "cell_type": "code",
   "execution_count": null,
   "id": "3fa691b1",
   "metadata": {},
   "outputs": [],
   "source": [
    "#basics stats relative to cost per ounce, without outliers.\n",
    "\n",
    "ol_removed['cost_per_oz'].describe()"
   ]
  },
  {
   "cell_type": "code",
   "execution_count": null,
   "id": "d62b2a45",
   "metadata": {},
   "outputs": [],
   "source": [
    "ol_removed.corr()"
   ]
  },
  {
   "cell_type": "code",
   "execution_count": null,
   "id": "6b3427fc",
   "metadata": {},
   "outputs": [],
   "source": [
    "#understanding common pack sizes\n",
    "\n",
    "treatsdf['size'].describe()"
   ]
  },
  {
   "cell_type": "markdown",
   "id": "19c5bf76",
   "metadata": {},
   "source": [
    "50%ile for product size is 8 ounces. "
   ]
  },
  {
   "cell_type": "code",
   "execution_count": null,
   "id": "f1a99c68",
   "metadata": {},
   "outputs": [],
   "source": [
    "#creating two tables to subset data\n",
    "\n",
    "limited_ingredient = ol_removed[ol_removed['ing_count'] <= 8]\n",
    "other = ol_removed[ol_removed['ing_count'] > 8]"
   ]
  },
  {
   "cell_type": "code",
   "execution_count": null,
   "id": "c40c929e",
   "metadata": {},
   "outputs": [],
   "source": [
    "#basic statistics about the limited_ingredient table. Dataframe limited_ingredient has outliers removed.\n",
    "\n",
    "limited_ingredient.describe()"
   ]
  },
  {
   "cell_type": "code",
   "execution_count": null,
   "id": "0027554f",
   "metadata": {},
   "outputs": [],
   "source": [
    "#Filtering to limited ingredient recipes with reviews to be better compare average ratings.\n",
    "\n",
    "treatsdf[(treatsdf['ing_count'] <= 8) & (treatsdf['reviews'] > 0)]['rating'].describe()"
   ]
  },
  {
   "cell_type": "code",
   "execution_count": null,
   "id": "1f16f3a1",
   "metadata": {},
   "outputs": [],
   "source": [
    "#Exploring cost per oz for all other treats. Dataframe other has outliers removed.\n",
    "\n",
    "other.describe()"
   ]
  },
  {
   "cell_type": "code",
   "execution_count": null,
   "id": "8ee30434",
   "metadata": {},
   "outputs": [],
   "source": [
    "#filtering to unlimited ingredient recipes with reviews to better compare rating.\n",
    "\n",
    "treatsdf[(treatsdf['ing_count']) > 8 & (treatsdf['reviews'] > 0)]['rating'].describe()"
   ]
  }
 ],
 "metadata": {
  "kernelspec": {
   "display_name": "Python 3 (ipykernel)",
   "language": "python",
   "name": "python3"
  },
  "language_info": {
   "codemirror_mode": {
    "name": "ipython",
    "version": 3
   },
   "file_extension": ".py",
   "mimetype": "text/x-python",
   "name": "python",
   "nbconvert_exporter": "python",
   "pygments_lexer": "ipython3",
   "version": "3.9.13"
  }
 },
 "nbformat": 4,
 "nbformat_minor": 5
}
