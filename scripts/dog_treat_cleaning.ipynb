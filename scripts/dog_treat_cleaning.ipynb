{
 "cells": [
  {
   "cell_type": "code",
   "execution_count": null,
   "id": "c5bc6b13",
   "metadata": {},
   "outputs": [],
   "source": [
    "import pandas as pd\n",
    "import re"
   ]
  },
  {
   "cell_type": "code",
   "execution_count": null,
   "id": "021c658b",
   "metadata": {},
   "outputs": [],
   "source": [
    "treatsdf = pd.read_csv('../data/treatsdf.csv')"
   ]
  },
  {
   "cell_type": "code",
   "execution_count": null,
   "id": "72836e99",
   "metadata": {},
   "outputs": [],
   "source": [
    "treatsdf.head()"
   ]
  },
  {
   "cell_type": "code",
   "execution_count": null,
   "id": "f7f2d60f",
   "metadata": {},
   "outputs": [],
   "source": [
    "treatsdf.info()"
   ]
  },
  {
   "cell_type": "code",
   "execution_count": null,
   "id": "0147d6da",
   "metadata": {},
   "outputs": [],
   "source": [
    "#pulling just the numeric price out of the price column\n",
    "\n",
    "#creating empty set for updated price\n",
    "newprice = []\n",
    "\n",
    "for price in treatsdf['price']:\n",
    "    pricestrip = re.search(r'\\d+\\.*\\d*', price).group(0)\n",
    "    newprice.append(pricestrip)"
   ]
  },
  {
   "cell_type": "code",
   "execution_count": null,
   "id": "ebf07943",
   "metadata": {},
   "outputs": [],
   "source": [
    "treatsdf['price'] = newprice"
   ]
  },
  {
   "cell_type": "code",
   "execution_count": null,
   "id": "eac3a0c1",
   "metadata": {},
   "outputs": [],
   "source": [
    "treatsdf['price'] = treatsdf['price'].astype(float)"
   ]
  },
  {
   "cell_type": "code",
   "execution_count": null,
   "id": "ee1e1cda",
   "metadata": {},
   "outputs": [],
   "source": [
    "treatsdf.info()"
   ]
  },
  {
   "cell_type": "code",
   "execution_count": null,
   "id": "507f3678",
   "metadata": {},
   "outputs": [],
   "source": [
    "#creating empty list for number of reviews\n",
    "reviews = []\n",
    "\n",
    "#splitting string on second occurence of a '.', splitting new string on space. If the group doesn't exist, inputting 0 reviews.\n",
    "for rating in treatsdf['rating']:\n",
    "    reviewstrip = rating.split('.')[2]\n",
    "    try:\n",
    "        reviews.append(reviewstrip.split(' ')[1])\n",
    "    except:\n",
    "        reviews.append(0)"
   ]
  },
  {
   "cell_type": "code",
   "execution_count": null,
   "id": "a27a4052",
   "metadata": {},
   "outputs": [],
   "source": [
    "treatsdf['reviews'] = reviews"
   ]
  },
  {
   "cell_type": "code",
   "execution_count": null,
   "id": "fe66bbe2",
   "metadata": {},
   "outputs": [],
   "source": [
    "treatsdf['reviews'] = treatsdf['reviews'].astype(int)"
   ]
  },
  {
   "cell_type": "code",
   "execution_count": null,
   "id": "4948ea3a",
   "metadata": {},
   "outputs": [],
   "source": [
    "treatsdf.head()"
   ]
  },
  {
   "cell_type": "code",
   "execution_count": null,
   "id": "21eed8c0",
   "metadata": {},
   "outputs": [],
   "source": [
    "#creating empty list for cleaned rating.\n",
    "ratingclean = []\n",
    "\n",
    "#Splitting string on space and returning first group\n",
    "for rating in treatsdf['rating']:\n",
    "    ratingclean.append(rating.split(' ')[0])\n",
    "    \n",
    "len(ratingclean)"
   ]
  },
  {
   "cell_type": "code",
   "execution_count": null,
   "id": "7570bd95",
   "metadata": {},
   "outputs": [],
   "source": [
    "treatsdf['rating'] = ratingclean\n",
    "treatsdf['rating'] = treatsdf['rating'].astype(float)"
   ]
  },
  {
   "cell_type": "code",
   "execution_count": null,
   "id": "65e86623",
   "metadata": {},
   "outputs": [],
   "source": [
    "#extracting the measure from size column\n",
    "sizemeasure = []\n",
    "\n",
    "for size in treatsdf['size']:\n",
    "    try:\n",
    "        sizemeasure.append(size.split(' ')[-1])\n",
    "    except:\n",
    "        sizemeasure.append('n/a')"
   ]
  },
  {
   "cell_type": "code",
   "execution_count": null,
   "id": "728b39df",
   "metadata": {},
   "outputs": [],
   "source": [
    "len(sizemeasure)"
   ]
  },
  {
   "cell_type": "code",
   "execution_count": null,
   "id": "8efd4a7c",
   "metadata": {},
   "outputs": [],
   "source": [
    "#extracting value from the size column\n",
    "sizevalue = []\n",
    "\n",
    "for size in treatsdf['size']:\n",
    "    try:\n",
    "        sizevalue.append(re.findall(r\"[+-]? *(?:\\d+(?:\\.\\d*)?|\\.\\d+)(?:[eE][+-]?\\d+)?\", size)[-1])\n",
    "    except:\n",
    "        sizevalue.append(1)"
   ]
  },
  {
   "cell_type": "code",
   "execution_count": null,
   "id": "eee1bcea",
   "metadata": {},
   "outputs": [],
   "source": [
    "len(sizevalue)"
   ]
  },
  {
   "cell_type": "code",
   "execution_count": null,
   "id": "c2ef7d87",
   "metadata": {},
   "outputs": [],
   "source": [
    "#creating DataFrame to continue converting Lb measures to Oz measure.\n",
    "sizedf = pd.DataFrame(sizemeasure, sizevalue).reset_index()"
   ]
  },
  {
   "cell_type": "code",
   "execution_count": null,
   "id": "892366a2",
   "metadata": {},
   "outputs": [],
   "source": [
    "sizedf.columns = ['value', 'measure']"
   ]
  },
  {
   "cell_type": "code",
   "execution_count": null,
   "id": "31ddf7ad",
   "metadata": {
    "scrolled": true
   },
   "outputs": [],
   "source": [
    "sizedf"
   ]
  },
  {
   "cell_type": "code",
   "execution_count": null,
   "id": "a63257d5",
   "metadata": {},
   "outputs": [],
   "source": [
    "sizedf['value'] = sizedf['value'].astype(float)"
   ]
  },
  {
   "cell_type": "code",
   "execution_count": null,
   "id": "e5b76bd2",
   "metadata": {},
   "outputs": [],
   "source": [
    "#empty list for updated size value\n",
    "ounces = []\n",
    "\n",
    "#converting the lb measures to oz\n",
    "for value, measure in sizedf.itertuples(index=False):\n",
    "    if measure == 'Lb':\n",
    "        ounces.append(value * 16)\n",
    "    else:\n",
    "        ounces.append(value)"
   ]
  },
  {
   "cell_type": "code",
   "execution_count": null,
   "id": "96a9e002",
   "metadata": {},
   "outputs": [],
   "source": [
    "sizedf['ounces'] = ounces"
   ]
  },
  {
   "cell_type": "code",
   "execution_count": null,
   "id": "f86f41be",
   "metadata": {},
   "outputs": [],
   "source": [
    "#checking the appropriate rows were adjusted.\n",
    "sizedf[(sizedf['measure'] == 'Lb')]"
   ]
  },
  {
   "cell_type": "code",
   "execution_count": null,
   "id": "c8aec684",
   "metadata": {},
   "outputs": [],
   "source": [
    "#adding to the original dataframe\n",
    "treatsdf['size'] = sizedf['ounces']"
   ]
  },
  {
   "cell_type": "code",
   "execution_count": null,
   "id": "4d0cd9db",
   "metadata": {},
   "outputs": [],
   "source": [
    "treatsdf"
   ]
  },
  {
   "cell_type": "code",
   "execution_count": null,
   "id": "bfb2386e",
   "metadata": {},
   "outputs": [],
   "source": [
    "#replacing line break, splitting on space and only keeping the ingredients list.\n",
    "#replaced comma with | to prevent issues when reading it into Excel\n",
    "\n",
    "ing = []\n",
    "\n",
    "for x in treatsdf['ingredients']:\n",
    "    try:\n",
    "        a = x.replace('\\n', ' ')\n",
    "        b = a.split(' ', 1)[-1]\n",
    "        ing.append(b.replace(',', ' |'))\n",
    "    except:\n",
    "        ing.append('NaN')"
   ]
  },
  {
   "cell_type": "code",
   "execution_count": null,
   "id": "4d715e65",
   "metadata": {},
   "outputs": [],
   "source": [
    "ing[1]"
   ]
  },
  {
   "cell_type": "code",
   "execution_count": null,
   "id": "516cb4e4",
   "metadata": {},
   "outputs": [],
   "source": [
    "treatsdf['ingredients'] = ing"
   ]
  },
  {
   "cell_type": "code",
   "execution_count": null,
   "id": "41ff3da1",
   "metadata": {},
   "outputs": [],
   "source": [
    "treatsdf.info()"
   ]
  },
  {
   "cell_type": "code",
   "execution_count": null,
   "id": "9f8e5ccd",
   "metadata": {},
   "outputs": [],
   "source": [
    "treatsdf"
   ]
  },
  {
   "cell_type": "code",
   "execution_count": null,
   "id": "b2bc8422",
   "metadata": {},
   "outputs": [],
   "source": [
    "treatsdf.to_csv('../data/treatscleaned.csv', index=False)"
   ]
  },
  {
   "cell_type": "markdown",
   "id": "4d190c9c",
   "metadata": {},
   "source": [
    "Moving to Excel to verify data is cleaned and further adjust as needed. "
   ]
  }
 ],
 "metadata": {
  "kernelspec": {
   "display_name": "Python 3 (ipykernel)",
   "language": "python",
   "name": "python3"
  },
  "language_info": {
   "codemirror_mode": {
    "name": "ipython",
    "version": 3
   },
   "file_extension": ".py",
   "mimetype": "text/x-python",
   "name": "python",
   "nbconvert_exporter": "python",
   "pygments_lexer": "ipython3",
   "version": "3.9.13"
  }
 },
 "nbformat": 4,
 "nbformat_minor": 5
}
