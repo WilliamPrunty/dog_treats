{
 "cells": [
  {
   "cell_type": "code",
   "execution_count": null,
   "id": "1c393061",
   "metadata": {},
   "outputs": [],
   "source": [
    "import requests\n",
    "from IPython.core.display import HTML\n",
    "import pandas as pd\n",
    "from bs4 import BeautifulSoup as BS\n",
    "import re\n"
   ]
  },
  {
   "cell_type": "code",
   "execution_count": null,
   "id": "602489d2",
   "metadata": {},
   "outputs": [],
   "source": [
    "#Assigning URLs of each dog treat results page\n",
    "url  = \"https://www.petsmart.com/dog/treats/biscuits-and-bakery/?pmin=0.01&srule=best-sellers&start=0sz=36\"\n",
    "url2 = \"https://www.petsmart.com/dog/treats/biscuits-and-bakery/?pmin=0.01&srule=best-sellers&start=36&sz=36\"\n",
    "url3 = \"https://www.petsmart.com/dog/treats/biscuits-and-bakery/?pmin=0.01&srule=best-sellers&start=72&sz=36\"\n",
    "url4 = \"https://www.petsmart.com/dog/treats/biscuits-and-bakery/?pmin=0.01&srule=best-sellers&start=108&sz=36\"\n",
    "url5 = \"https://www.petsmart.com/dog/treats/biscuits-and-bakery/?pmin=0.01&srule=best-sellers&start=144&sz=36\""
   ]
  },
  {
   "cell_type": "code",
   "execution_count": null,
   "id": "cf2ab02f",
   "metadata": {},
   "outputs": [],
   "source": [
    "data = requests.get(url)\n",
    "data2 = requests.get(url2)\n",
    "data3 = requests.get(url3)\n",
    "data4 = requests.get(url4)\n",
    "data5 = requests.get(url5)"
   ]
  },
  {
   "cell_type": "code",
   "execution_count": null,
   "id": "32bcd208",
   "metadata": {},
   "outputs": [],
   "source": [
    "data.status_code"
   ]
  },
  {
   "cell_type": "code",
   "execution_count": null,
   "id": "e1474b9e",
   "metadata": {},
   "outputs": [],
   "source": [
    "#Creating soup of each response\n",
    "soup  = BS(data.text)\n",
    "soup2 = BS(data2.text)\n",
    "soup3 = BS(data3.text)\n",
    "soup4 = BS(data4.text)\n",
    "soup5 = BS(data5.text)"
   ]
  },
  {
   "cell_type": "code",
   "execution_count": null,
   "id": "9ea683ed",
   "metadata": {
    "scrolled": true
   },
   "outputs": [],
   "source": [
    "#finding the necessary links to a product page.\n",
    "soup2.find_all('a', {'class':'name-link'}, href=True)"
   ]
  },
  {
   "cell_type": "code",
   "execution_count": null,
   "id": "6572a7ca",
   "metadata": {},
   "outputs": [],
   "source": [
    "#creating empty lists to store product links in\n",
    "links  = []\n",
    "links2 = []\n",
    "links3 = []\n",
    "links4 = []\n",
    "links5 = []"
   ]
  },
  {
   "cell_type": "code",
   "execution_count": null,
   "id": "87980361",
   "metadata": {},
   "outputs": [],
   "source": [
    "#for loops extracting links from each page\n",
    "for a in soup.find_all('a', {'class':'name-link'}, href=True):\n",
    "    links.append(a['href'])"
   ]
  },
  {
   "cell_type": "code",
   "execution_count": null,
   "id": "d7d29eae",
   "metadata": {},
   "outputs": [],
   "source": [
    "for a in soup2.find_all('a', {'class':'name-link'}, href=True):\n",
    "    links2.append(a['href'])"
   ]
  },
  {
   "cell_type": "code",
   "execution_count": null,
   "id": "346e0419",
   "metadata": {},
   "outputs": [],
   "source": [
    "for a in soup3.find_all('a', {'class':'name-link'}, href=True):\n",
    "    links3.append(a['href'])"
   ]
  },
  {
   "cell_type": "code",
   "execution_count": null,
   "id": "7bc6e41b",
   "metadata": {},
   "outputs": [],
   "source": [
    "for a in soup4.find_all('a', {'class':'name-link'}, href=True):\n",
    "    links4.append(a['href'])"
   ]
  },
  {
   "cell_type": "code",
   "execution_count": null,
   "id": "110a2496",
   "metadata": {},
   "outputs": [],
   "source": [
    "for a in soup5.find_all('a', {'class':'name-link'}, href=True):\n",
    "    links5.append(a['href'])"
   ]
  },
  {
   "cell_type": "code",
   "execution_count": null,
   "id": "3ba4c576",
   "metadata": {},
   "outputs": [],
   "source": [
    "#combining lists together\n",
    "alllinks = links + links2 + links3 + links4 + links5"
   ]
  },
  {
   "cell_type": "code",
   "execution_count": null,
   "id": "ebae0c5d",
   "metadata": {},
   "outputs": [],
   "source": [
    "#creating dataframe object of links\n",
    "treatsdf = pd.DataFrame(alllinks)"
   ]
  },
  {
   "cell_type": "code",
   "execution_count": null,
   "id": "c9681409",
   "metadata": {},
   "outputs": [],
   "source": [
    "#renaming column\n",
    "treatsdf.columns = ['link']"
   ]
  },
  {
   "cell_type": "code",
   "execution_count": null,
   "id": "001831cd",
   "metadata": {},
   "outputs": [],
   "source": [
    "treatsdf.head()"
   ]
  },
  {
   "cell_type": "code",
   "execution_count": null,
   "id": "49bbb588",
   "metadata": {},
   "outputs": [],
   "source": [
    "#completing the url for each extracted link\n",
    "treatsdf['urls'] = 'https://www.petsmart.com' + treatsdf['link']"
   ]
  },
  {
   "cell_type": "code",
   "execution_count": null,
   "id": "472a15e5",
   "metadata": {},
   "outputs": [],
   "source": [
    "#simplifying dataframe\n",
    "treatsdf = treatsdf[['urls']]"
   ]
  },
  {
   "cell_type": "code",
   "execution_count": null,
   "id": "e96d68a1",
   "metadata": {},
   "outputs": [],
   "source": [
    "treatsdf.head()"
   ]
  },
  {
   "cell_type": "markdown",
   "id": "29113aac",
   "metadata": {},
   "source": [
    "#   "
   ]
  },
  {
   "cell_type": "code",
   "execution_count": null,
   "id": "b7d9bce1",
   "metadata": {},
   "outputs": [],
   "source": [
    "#importing selenium to read information from a given products page\n",
    "from selenium import webdriver\n",
    "from selenium.webdriver import Chrome\n",
    "from selenium.webdriver.common.keys import Keys\n",
    "from selenium.webdriver.common.by import By\n",
    "import time"
   ]
  },
  {
   "cell_type": "code",
   "execution_count": null,
   "id": "518d4db2",
   "metadata": {},
   "outputs": [],
   "source": [
    "#establishing browser for Selenium to use.\n",
    "browser = webdriver.Chrome()"
   ]
  },
  {
   "cell_type": "code",
   "execution_count": null,
   "id": "be4636e3",
   "metadata": {},
   "outputs": [],
   "source": [
    "testurl = 'https://www.petsmart.com/dog/treats/biscuits-and-bakery/kong-ziggiesandtrade-dog-treat-9903.html?cgid=100266&fmethod=Browse'"
   ]
  },
  {
   "cell_type": "code",
   "execution_count": null,
   "id": "5d57eb5a",
   "metadata": {},
   "outputs": [],
   "source": [
    "browser.get(testurl)"
   ]
  },
  {
   "cell_type": "code",
   "execution_count": null,
   "id": "d8f06bf2",
   "metadata": {},
   "outputs": [],
   "source": [
    "#extracting product name from testurl\n",
    "browser.find_element(By.CLASS_NAME, 'pdp-product-name').text"
   ]
  },
  {
   "cell_type": "code",
   "execution_count": null,
   "id": "696f7ea3",
   "metadata": {},
   "outputs": [],
   "source": [
    "#extracting product price from testurl\n",
    "browser.find_element(By.CLASS_NAME, 'product-price-standard').text.strip()"
   ]
  },
  {
   "cell_type": "code",
   "execution_count": null,
   "id": "0283c1f7",
   "metadata": {},
   "outputs": [],
   "source": [
    "#extracting rating from testurl\n",
    "browser.find_element(By.CLASS_NAME, 'bv-off-screen').text"
   ]
  },
  {
   "cell_type": "code",
   "execution_count": null,
   "id": "b8925c95",
   "metadata": {},
   "outputs": [],
   "source": [
    "#creating a click to extract necessary element\n",
    "browser.find_element(By.XPATH, '/html/body/div[3]/div[1]/div[2]/div[5]/div/div/div[6]/div/div/div/div/div/ul/li[2]/div').click()"
   ]
  },
  {
   "cell_type": "code",
   "execution_count": null,
   "id": "396e9bb6",
   "metadata": {},
   "outputs": [],
   "source": [
    "#extracting ingredients from testurl\n",
    "browser.find_element(By.XPATH, '/html/body/div[3]/div[1]/div[2]/div[5]/div/div/div[6]/div/div/div/div/div/div[2]/div/p[1]').text.strip()"
   ]
  },
  {
   "cell_type": "code",
   "execution_count": null,
   "id": "e15cd68e",
   "metadata": {},
   "outputs": [],
   "source": [
    "#creating empty lists for additional information\n",
    "product = []\n",
    "price = []\n",
    "size = []\n",
    "rating = []\n",
    "ingredients = []\n",
    "\n",
    "for url in treatsdf['urls']:\n",
    "    browser.get(url)\n",
    "    \n",
    "    #Sleeping to allow the page to fully load all Java elements.\n",
    "    time.sleep(15)\n",
    "    \n",
    "    #Getting product name\n",
    "    try:\n",
    "        product.append(browser.find_element(By.CLASS_NAME, 'pdp-product-name').text)\n",
    "    except:\n",
    "        product.append('n/a')\n",
    "    \n",
    "    #Getting product price\n",
    "    try:\n",
    "        price.append(browser.find_element(By.CLASS_NAME, 'product-price-sales').text)\n",
    "    except:\n",
    "        try:\n",
    "            price.append(browser.find_element(By.CLASS_NAME, 'product-price-standard').text)\n",
    "        except:\n",
    "            price.append('n/a')\n",
    "            \n",
    "    #Getting product rating\n",
    "    try:\n",
    "        rating.append(browser.find_element(By.CLASS_NAME, 'bv-off-screen').text)\n",
    "    except:\n",
    "        rating.append('n/a')\n",
    "    \n",
    "    #Getting product size\n",
    "    try:\n",
    "        size.append(browser.find_element(By.ID, 'size').text)\n",
    "    except:\n",
    "        try:\n",
    "            size.append(browser.find_element(By.ID, 'customQuantity').text)\n",
    "        except:\n",
    "            size.append('n/a')\n",
    "            \n",
    "    #Getting product ingredients\n",
    "    try:\n",
    "        browser.find_element(By.XPATH, '/html/body/div[3]/div[1]/div[2]/div[5]/div/div/div[6]/div/div/div/div/div/ul/li[2]/div').click()\n",
    "        ingredients.append(browser.find_element(By.XPATH, '/html/body/div[3]/div[1]/div[2]/div[5]/div/div/div[6]/div/div/div/div/div/div[2]/div/p[1]').text)\n",
    "    except:\n",
    "        try:\n",
    "            ingredients.append(browser.find_element(By.XPATH, '/html/body/div[3]/div[1]/div[2]/div[5]/div/div/div[6]/div/div/div/div/div/div/div/p[3]').text)\n",
    "        except:\n",
    "            try:\n",
    "                browser.find_element(By.XPATH, '/html/body/div[3]/div[1]/div[2]/div[5]/div/div/div[5]/div/div/div/div/div/ul/li[2]/div').click()\n",
    "                ingredients.append(browser.find_element(By.XPATH, '/html/body/div[3]/div[1]/div[2]/div[5]/div/div/div[5]/div/div/div/div/div/div[2]/div/p[1]').text)\n",
    "            except:\n",
    "                ingredients.append('n/a')"
   ]
  },
  {
   "cell_type": "code",
   "execution_count": null,
   "id": "2a834222",
   "metadata": {},
   "outputs": [],
   "source": [
    "product"
   ]
  },
  {
   "cell_type": "code",
   "execution_count": null,
   "id": "bc4f88a4",
   "metadata": {},
   "outputs": [],
   "source": [
    "size"
   ]
  },
  {
   "cell_type": "code",
   "execution_count": null,
   "id": "d0e1e3fc",
   "metadata": {},
   "outputs": [],
   "source": [
    "price"
   ]
  },
  {
   "cell_type": "code",
   "execution_count": null,
   "id": "ac670df0",
   "metadata": {},
   "outputs": [],
   "source": [
    "ingredients"
   ]
  },
  {
   "cell_type": "code",
   "execution_count": null,
   "id": "9ec8c230",
   "metadata": {},
   "outputs": [],
   "source": [
    "rating"
   ]
  },
  {
   "cell_type": "code",
   "execution_count": null,
   "id": "41890443",
   "metadata": {},
   "outputs": [],
   "source": [
    "len(alllinks)"
   ]
  },
  {
   "cell_type": "code",
   "execution_count": null,
   "id": "f7165b06",
   "metadata": {},
   "outputs": [],
   "source": [
    "treatsdf['product'] = product\n",
    "treatsdf['price'] = price\n",
    "treatsdf['size'] = size\n",
    "treatsdf['rating'] = rating\n",
    "treatsdf['ingredients'] = ingredients"
   ]
  },
  {
   "cell_type": "code",
   "execution_count": null,
   "id": "7403fd4d",
   "metadata": {},
   "outputs": [],
   "source": [
    "#treatsdf.to_csv('../data/treatsdf.csv', index=False)"
   ]
  },
  {
   "cell_type": "code",
   "execution_count": null,
   "id": "6494df08",
   "metadata": {},
   "outputs": [],
   "source": [
    "treatsdf.head()"
   ]
  },
  {
   "cell_type": "code",
   "execution_count": null,
   "id": "1745278b",
   "metadata": {},
   "outputs": [],
   "source": [
    "driver.quit()"
   ]
  }
 ],
 "metadata": {
  "kernelspec": {
   "display_name": "Python 3 (ipykernel)",
   "language": "python",
   "name": "python3"
  },
  "language_info": {
   "codemirror_mode": {
    "name": "ipython",
    "version": 3
   },
   "file_extension": ".py",
   "mimetype": "text/x-python",
   "name": "python",
   "nbconvert_exporter": "python",
   "pygments_lexer": "ipython3",
   "version": "3.9.13"
  }
 },
 "nbformat": 4,
 "nbformat_minor": 5
}
