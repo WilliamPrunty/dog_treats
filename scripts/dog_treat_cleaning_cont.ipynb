{
 "cells": [
  {
   "cell_type": "code",
   "execution_count": null,
   "id": "852eb449",
   "metadata": {},
   "outputs": [],
   "source": [
    "#installing wordcloud library for later usage\n",
    "#conda install -c conda-forge wordcloud"
   ]
  },
  {
   "cell_type": "code",
   "execution_count": null,
   "id": "b2aa8d33",
   "metadata": {},
   "outputs": [],
   "source": [
    "import pandas as pd\n",
    "from wordcloud import WordCloud\n",
    "import matplotlib.pyplot as plt\n",
    "import re"
   ]
  },
  {
   "cell_type": "code",
   "execution_count": null,
   "id": "ca71bcc5",
   "metadata": {},
   "outputs": [],
   "source": [
    "treatsdf = pd.read_csv('../data/treatscleaned_excel.csv')"
   ]
  },
  {
   "cell_type": "code",
   "execution_count": null,
   "id": "70947d57",
   "metadata": {},
   "outputs": [],
   "source": [
    "#counting number of ingredients listed for each treat\n",
    "\n",
    "ing_count = []\n",
    "\n",
    "for x in treatsdf['ingredients']:\n",
    "    try:    \n",
    "        ing_count.append(x.count(\"|\") + 1)\n",
    "    except:\n",
    "        ing_count.append(0)"
   ]
  },
  {
   "cell_type": "code",
   "execution_count": null,
   "id": "3b26ec6e",
   "metadata": {},
   "outputs": [],
   "source": [
    "len(ing_count)"
   ]
  },
  {
   "cell_type": "code",
   "execution_count": null,
   "id": "04d683ab",
   "metadata": {},
   "outputs": [],
   "source": [
    "treatsdf['ing_count'] = ing_count"
   ]
  },
  {
   "cell_type": "code",
   "execution_count": null,
   "id": "9c54e8cf",
   "metadata": {
    "scrolled": true
   },
   "outputs": [],
   "source": [
    "treatsdf.head()"
   ]
  },
  {
   "cell_type": "code",
   "execution_count": null,
   "id": "35589cb1",
   "metadata": {},
   "outputs": [],
   "source": [
    "#removing anything in parantheses and newline breaks.\n",
    "\n",
    "ingclean = []\n",
    "\n",
    "for x in treatsdf['ingredients']:\n",
    "    x = x.replace('\\n', ' ')\n",
    "    ingclean.append(re.sub(\"\\(.*?\\)\", \"\", x))"
   ]
  },
  {
   "cell_type": "code",
   "execution_count": null,
   "id": "3ae12a74",
   "metadata": {},
   "outputs": [],
   "source": [
    "ingclean"
   ]
  },
  {
   "cell_type": "code",
   "execution_count": null,
   "id": "cff86df6",
   "metadata": {},
   "outputs": [],
   "source": [
    "treatsdf['ing_cleaned'] = ingclean"
   ]
  },
  {
   "cell_type": "code",
   "execution_count": null,
   "id": "c8fccb97",
   "metadata": {},
   "outputs": [],
   "source": [
    "treatsdf.info()"
   ]
  },
  {
   "cell_type": "code",
   "execution_count": null,
   "id": "bcae28d5",
   "metadata": {},
   "outputs": [],
   "source": [
    "#splitting ingredients column to a list.\n",
    "\n",
    "inglist = []\n",
    "for x in treatsdf['ing_cleaned']:\n",
    "    inglist.append(x.split(\" | \"))"
   ]
  },
  {
   "cell_type": "code",
   "execution_count": null,
   "id": "2d88d6df",
   "metadata": {},
   "outputs": [],
   "source": [
    "inglist"
   ]
  },
  {
   "cell_type": "code",
   "execution_count": null,
   "id": "3f4602c0",
   "metadata": {},
   "outputs": [],
   "source": [
    "#removing leading and trailing spaces\n",
    "#flattening list of lists to use with WordCloud\n",
    "\n",
    "inglist_flat = []\n",
    "\n",
    "for sublist in inglist:\n",
    "    for item in sublist:\n",
    "        item = item.strip()\n",
    "        inglist_flat.append(item)"
   ]
  },
  {
   "cell_type": "code",
   "execution_count": null,
   "id": "3a9e7350",
   "metadata": {
    "scrolled": true
   },
   "outputs": [],
   "source": [
    "inglist_flat"
   ]
  },
  {
   "cell_type": "code",
   "execution_count": null,
   "id": "dbf9eb2e",
   "metadata": {},
   "outputs": [],
   "source": [
    "#Counter library assists with generating frequency for the given list.\n",
    "from collections import Counter\n",
    "\n",
    "#plotting wordcloud based on frequency from the dictionary created.\n",
    "word_cloud_dict=Counter(inglist_flat)\n",
    "wordcloud = WordCloud(width = 1000, height = 500, background_color='white', max_words=100).generate_from_frequencies(word_cloud_dict)\n",
    "\n",
    "plt.figure(figsize=(15,8))\n",
    "plt.imshow(wordcloud)\n",
    "plt.axis(\"off\")\n",
    "plt.show()\n",
    "#plt.savefig('ingredientswordcloud.png', bbox_inches='tight')\n",
    "plt.close()"
   ]
  },
  {
   "cell_type": "code",
   "execution_count": null,
   "id": "32e1081c",
   "metadata": {},
   "outputs": [],
   "source": [
    "#creating dataframe from dictionary\n",
    "ingredientscount = pd.DataFrame.from_dict(word_cloud_dict, orient='index').reset_index()"
   ]
  },
  {
   "cell_type": "code",
   "execution_count": null,
   "id": "b17911a5",
   "metadata": {},
   "outputs": [],
   "source": [
    "ingredientscount.columns = ['ingredient', 'count']"
   ]
  },
  {
   "cell_type": "code",
   "execution_count": null,
   "id": "94f323f2",
   "metadata": {},
   "outputs": [],
   "source": [
    "ingredientscount = ingredientscount.sort_values('count', ascending=False).reset_index(drop=True)"
   ]
  },
  {
   "cell_type": "code",
   "execution_count": null,
   "id": "3d6fed5d",
   "metadata": {},
   "outputs": [],
   "source": [
    "ingredientscount.to_csv('../data/ingredientscount.csv', index=False)"
   ]
  },
  {
   "cell_type": "code",
   "execution_count": null,
   "id": "fd058b1b",
   "metadata": {},
   "outputs": [],
   "source": [
    "treatsdf[['urls', 'product', 'price', 'size', 'rating', 'reviews', 'ing_count', 'ing_cleaned']].to_csv('../data/treatscleaned_final.csv', index=False)"
   ]
  },
  {
   "cell_type": "code",
   "execution_count": null,
   "id": "bfb53ae7",
   "metadata": {},
   "outputs": [],
   "source": []
  }
 ],
 "metadata": {
  "kernelspec": {
   "display_name": "Python 3 (ipykernel)",
   "language": "python",
   "name": "python3"
  },
  "language_info": {
   "codemirror_mode": {
    "name": "ipython",
    "version": 3
   },
   "file_extension": ".py",
   "mimetype": "text/x-python",
   "name": "python",
   "nbconvert_exporter": "python",
   "pygments_lexer": "ipython3",
   "version": "3.9.13"
  }
 },
 "nbformat": 4,
 "nbformat_minor": 5
}
